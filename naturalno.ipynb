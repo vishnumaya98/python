{
 "cells": [
  {
   "cell_type": "code",
   "execution_count": 1,
   "id": "b1938676",
   "metadata": {},
   "outputs": [
    {
     "name": "stdout",
     "output_type": "stream",
     "text": [
      "enter a number5\n",
      "1 = 1\n",
      "1 + 2 = 3\n",
      "1 + 2 + 3 = 6\n",
      "1 + 2 + 3 + 4 = 10\n",
      "1 + 2 + 3 + 4 + 5 = 15\n"
     ]
    }
   ],
   "source": [
    "# to read  a number n and print the natural number summation pattern\n",
    "\n",
    "num = int(input(\"enter a number\"))\n",
    "for j in range(1, num + 1):\n",
    "    my_list = []\n",
    "    for i in range(1, j + 1):\n",
    "        print(i, sep=\" \", end=\" \")\n",
    "        if i < j:\n",
    "            print(\"+\" , sep=\" \", end=\" \")\n",
    "        my_list.append(i)\n",
    "    print(\"=\", sum(my_list))      "
   ]
  },
  {
   "cell_type": "code",
   "execution_count": null,
   "id": "9e17714b",
   "metadata": {},
   "outputs": [],
   "source": []
  }
 ],
 "metadata": {
  "kernelspec": {
   "display_name": "Python 3",
   "language": "python",
   "name": "python3"
  },
  "language_info": {
   "codemirror_mode": {
    "name": "ipython",
    "version": 3
   },
   "file_extension": ".py",
   "mimetype": "text/x-python",
   "name": "python",
   "nbconvert_exporter": "python",
   "pygments_lexer": "ipython3",
   "version": "3.8.8"
  }
 },
 "nbformat": 4,
 "nbformat_minor": 5
}
