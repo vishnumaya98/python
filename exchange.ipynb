{
 "cells": [
  {
   "cell_type": "code",
   "execution_count": 1,
   "id": "0db05322",
   "metadata": {},
   "outputs": [
    {
     "name": "stdout",
     "output_type": "stream",
     "text": [
      "enter first number5\n",
      "enter second number10\n",
      "Before exchanging values value1= 5 value2= 10\n",
      "By exchanging values value1= 10 value2= 5\n"
     ]
    }
   ],
   "source": [
    "# exchange values  of two numbers without using a temporary variable\n",
    "\n",
    "value1 = int(input(\"enter first number\"))\n",
    "value2 = int(input(\"enter second number\"))\n",
    "print(\"Before exchanging values value1=\", value1, \"value2=\", value2)\n",
    "value1 = value1 + value2\n",
    "value2 = value1 - value2\n",
    "value1 = value1 - value2\n",
    "print(\"By exchanging values value1=\", value1, \"value2=\" , value2)"
   ]
  },
  {
   "cell_type": "code",
   "execution_count": null,
   "id": "e200ad9d",
   "metadata": {},
   "outputs": [],
   "source": []
  }
 ],
 "metadata": {
  "kernelspec": {
   "display_name": "Python 3",
   "language": "python",
   "name": "python3"
  },
  "language_info": {
   "codemirror_mode": {
    "name": "ipython",
    "version": 3
   },
   "file_extension": ".py",
   "mimetype": "text/x-python",
   "name": "python",
   "nbconvert_exporter": "python",
   "pygments_lexer": "ipython3",
   "version": "3.8.8"
  }
 },
 "nbformat": 4,
 "nbformat_minor": 5
}
