{
 "cells": [
  {
   "cell_type": "code",
   "execution_count": 1,
   "id": "afb60439",
   "metadata": {},
   "outputs": [
    {
     "name": "stdout",
     "output_type": "stream",
     "text": [
      "enter a number123\n",
      "reverse of number 123 is : 321\n"
     ]
    }
   ],
   "source": [
    "# reverse a given  number\n",
    "num = int(input(\"enter a number\"))\n",
    "t = num\n",
    "rev = 0\n",
    "while  num > 0:\n",
    "    i = num % 10\n",
    "    rev = rev * 10 + i\n",
    "    num = num // 10\n",
    "print(\"reverse of number\", t, \"is :\" ,rev)\n",
    "\n",
    "    \n"
   ]
  },
  {
   "cell_type": "code",
   "execution_count": null,
   "id": "2a1a8221",
   "metadata": {},
   "outputs": [],
   "source": []
  }
 ],
 "metadata": {
  "kernelspec": {
   "display_name": "Python 3",
   "language": "python",
   "name": "python3"
  },
  "language_info": {
   "codemirror_mode": {
    "name": "ipython",
    "version": 3
   },
   "file_extension": ".py",
   "mimetype": "text/x-python",
   "name": "python",
   "nbconvert_exporter": "python",
   "pygments_lexer": "ipython3",
   "version": "3.8.8"
  }
 },
 "nbformat": 4,
 "nbformat_minor": 5
}
