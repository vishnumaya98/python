{
 "cells": [
  {
   "cell_type": "code",
   "execution_count": 1,
   "id": "fed35f7a",
   "metadata": {},
   "outputs": [
    {
     "name": "stdout",
     "output_type": "stream",
     "text": [
      "enter the height in centimeters:50\n",
      "the length in inches:  19.7\n",
      "the length in feet:  1.6400000000000001\n"
     ]
    }
   ],
   "source": [
    "#program to read height in centimeters and then convert the height to feet and inches\n",
    "\n",
    "height = int(input(\"enter the height in centimeters:\"))\n",
    "inches = 0.394*height\n",
    "feet = 0.0328*height\n",
    "print(\"the length in inches: \", inches)\n",
    "print(\"the length in feet: \", feet)"
   ]
  },
  {
   "cell_type": "code",
   "execution_count": null,
   "id": "3558471f",
   "metadata": {},
   "outputs": [],
   "source": []
  }
 ],
 "metadata": {
  "kernelspec": {
   "display_name": "Python 3",
   "language": "python",
   "name": "python3"
  },
  "language_info": {
   "codemirror_mode": {
    "name": "ipython",
    "version": 3
   },
   "file_extension": ".py",
   "mimetype": "text/x-python",
   "name": "python",
   "nbconvert_exporter": "python",
   "pygments_lexer": "ipython3",
   "version": "3.8.8"
  }
 },
 "nbformat": 4,
 "nbformat_minor": 5
}
