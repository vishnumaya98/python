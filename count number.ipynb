{
 "cells": [
  {
   "cell_type": "code",
   "execution_count": 1,
   "id": "e4e1a161",
   "metadata": {},
   "outputs": [
    {
     "name": "stdout",
     "output_type": "stream",
     "text": [
      "enter a number123456789\n",
      "number of digits: 9\n"
     ]
    }
   ],
   "source": [
    "# program to count of number of digitsin a number\n",
    "\n",
    "n = int(input(\"enter a number\"))\n",
    "count = 0\n",
    "while n>0:\n",
    "    count = count + 1\n",
    "    n =n // 10\n",
    "print(\"number of digits:\" , count)   "
   ]
  },
  {
   "cell_type": "code",
   "execution_count": null,
   "id": "5c171225",
   "metadata": {},
   "outputs": [],
   "source": []
  }
 ],
 "metadata": {
  "kernelspec": {
   "display_name": "Python 3",
   "language": "python",
   "name": "python3"
  },
  "language_info": {
   "codemirror_mode": {
    "name": "ipython",
    "version": 3
   },
   "file_extension": ".py",
   "mimetype": "text/x-python",
   "name": "python",
   "nbconvert_exporter": "python",
   "pygments_lexer": "ipython3",
   "version": "3.8.8"
  }
 },
 "nbformat": 4,
 "nbformat_minor": 5
}
