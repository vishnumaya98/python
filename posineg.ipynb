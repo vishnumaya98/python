{
 "cells": [
  {
   "cell_type": "code",
   "execution_count": 2,
   "id": "dfc1d630",
   "metadata": {},
   "outputs": [
    {
     "name": "stdout",
     "output_type": "stream",
     "text": [
      "enter a number2\n",
      "the number is positive\n"
     ]
    }
   ],
   "source": [
    "# check whether a number i positive or negative\n",
    "\n",
    "n =int(input(\"enter a number\"))\n",
    "if n>0:\n",
    "     print(\"the number is positive\")\n",
    "elif n< 0:\n",
    "            print(\"the number is negative\")"
   ]
  },
  {
   "cell_type": "code",
   "execution_count": null,
   "id": "6c01a764",
   "metadata": {},
   "outputs": [],
   "source": []
  }
 ],
 "metadata": {
  "kernelspec": {
   "display_name": "Python 3",
   "language": "python",
   "name": "python3"
  },
  "language_info": {
   "codemirror_mode": {
    "name": "ipython",
    "version": 3
   },
   "file_extension": ".py",
   "mimetype": "text/x-python",
   "name": "python",
   "nbconvert_exporter": "python",
   "pygments_lexer": "ipython3",
   "version": "3.8.8"
  }
 },
 "nbformat": 4,
 "nbformat_minor": 5
}
