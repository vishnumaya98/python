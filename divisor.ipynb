{
 "cells": [
  {
   "cell_type": "code",
   "execution_count": 3,
   "id": "f54f8319",
   "metadata": {},
   "outputs": [
    {
     "name": "stdout",
     "output_type": "stream",
     "text": [
      "enter an integer:75\n",
      "smallest divisor is: 3\n"
     ]
    }
   ],
   "source": [
    "# to print smallest divisor of an integer\n",
    "\n",
    "n = int(input(\"enter an integer:\"))\n",
    "a = []\n",
    "for i in range(2, n+1):\n",
    "    if n % i == 0:\n",
    "        a.append(i)\n",
    "a.sort()\n",
    "print(\"smallest divisor is:\" , a[0])"
   ]
  },
  {
   "cell_type": "code",
   "execution_count": null,
   "id": "53d96645",
   "metadata": {},
   "outputs": [],
   "source": []
  }
 ],
 "metadata": {
  "kernelspec": {
   "display_name": "Python 3",
   "language": "python",
   "name": "python3"
  },
  "language_info": {
   "codemirror_mode": {
    "name": "ipython",
    "version": 3
   },
   "file_extension": ".py",
   "mimetype": "text/x-python",
   "name": "python",
   "nbconvert_exporter": "python",
   "pygments_lexer": "ipython3",
   "version": "3.8.8"
  }
 },
 "nbformat": 4,
 "nbformat_minor": 5
}
