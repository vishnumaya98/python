{
 "cells": [
  {
   "cell_type": "code",
   "execution_count": 1,
   "id": "e17b9c9c",
   "metadata": {},
   "outputs": [
    {
     "name": "stdout",
     "output_type": "stream",
     "text": [
      "enter temparature in celsius48\n",
      "Temparature in fahrenheit:  118.4\n"
     ]
    }
   ],
   "source": [
    "# program to take temparature in celsius and convert it to farenheit\n",
    "temp = int(input(\"enter temparature in celsius\"))\n",
    "f =(temp*1.8)+32\n",
    "print(\"Temparature in fahrenheit: \", f)"
   ]
  },
  {
   "cell_type": "code",
   "execution_count": null,
   "id": "70771089",
   "metadata": {},
   "outputs": [],
   "source": []
  }
 ],
 "metadata": {
  "kernelspec": {
   "display_name": "Python 3",
   "language": "python",
   "name": "python3"
  },
  "language_info": {
   "codemirror_mode": {
    "name": "ipython",
    "version": 3
   },
   "file_extension": ".py",
   "mimetype": "text/x-python",
   "name": "python",
   "nbconvert_exporter": "python",
   "pygments_lexer": "ipython3",
   "version": "3.8.8"
  }
 },
 "nbformat": 4,
 "nbformat_minor": 5
}
