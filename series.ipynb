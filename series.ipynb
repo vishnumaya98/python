{
 "cells": [
  {
   "cell_type": "code",
   "execution_count": 1,
   "id": "5bf5154b",
   "metadata": {},
   "outputs": [
    {
     "name": "stdout",
     "output_type": "stream",
     "text": [
      "enter a number:8\n",
      "1 + 2 + 3 + 4 + 5 + 6 + 7 + 8 = 36\n",
      "\n"
     ]
    }
   ],
   "source": [
    "# program to read a number and print the series 1+2+3+.....+n=\n",
    "\n",
    "n = int(input(\"enter a number:\"))\n",
    "a = []\n",
    "for i in range(1, n + 1):\n",
    "    print(i, sep=\" \", end=\" \")\n",
    "    if i < n:\n",
    "        print(\"+\", sep=\" \", end=\" \")\n",
    "    a.append(i)\n",
    "print(\"=\", sum(a))\n",
    "print()"
   ]
  },
  {
   "cell_type": "code",
   "execution_count": null,
   "id": "776a5aed",
   "metadata": {},
   "outputs": [],
   "source": []
  }
 ],
 "metadata": {
  "kernelspec": {
   "display_name": "Python 3",
   "language": "python",
   "name": "python3"
  },
  "language_info": {
   "codemirror_mode": {
    "name": "ipython",
    "version": 3
   },
   "file_extension": ".py",
   "mimetype": "text/x-python",
   "name": "python",
   "nbconvert_exporter": "python",
   "pygments_lexer": "ipython3",
   "version": "3.8.8"
  }
 },
 "nbformat": 4,
 "nbformat_minor": 5
}
