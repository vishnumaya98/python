{
 "cells": [
  {
   "cell_type": "code",
   "execution_count": 1,
   "id": "79c3981b",
   "metadata": {},
   "outputs": [
    {
     "name": "stdout",
     "output_type": "stream",
     "text": [
      "enter a year2016\n",
      "2016 is a leap year\n"
     ]
    }
   ],
   "source": [
    "# program to check whether a given year is a leap year\n",
    "yy = int(input(\"enter a year\"))\n",
    "if(yy%4==0 and yy%100!=0 or yy%400==0):\n",
    "    days = 29\n",
    "else:\n",
    "    days = 28\n",
    "if(days==29):\n",
    "    print(yy, \"is a leap year\")\n",
    "elif(days==28):\n",
    "    print(yy, \"is not a leap year\")\n",
    "    "
   ]
  },
  {
   "cell_type": "code",
   "execution_count": null,
   "id": "ddbcd445",
   "metadata": {},
   "outputs": [],
   "source": []
  },
  {
   "cell_type": "code",
   "execution_count": null,
   "id": "5f5b61aa",
   "metadata": {},
   "outputs": [],
   "source": []
  }
 ],
 "metadata": {
  "kernelspec": {
   "display_name": "Python 3",
   "language": "python",
   "name": "python3"
  },
  "language_info": {
   "codemirror_mode": {
    "name": "ipython",
    "version": 3
   },
   "file_extension": ".py",
   "mimetype": "text/x-python",
   "name": "python",
   "nbconvert_exporter": "python",
   "pygments_lexer": "ipython3",
   "version": "3.8.8"
  }
 },
 "nbformat": 4,
 "nbformat_minor": 5
}
