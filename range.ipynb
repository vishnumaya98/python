{
 "cells": [
  {
   "cell_type": "code",
   "execution_count": 2,
   "id": "7887d349",
   "metadata": {},
   "outputs": [
    {
     "name": "stdout",
     "output_type": "stream",
     "text": [
      "enter lower range limit:1\n",
      "enter upper range limit:10\n",
      "enter the number to be divided by:2\n",
      "2\n",
      "4\n",
      "6\n",
      "8\n",
      "10\n"
     ]
    }
   ],
   "source": [
    "# to  print all numbers in a range divisible by a given number\n",
    "\n",
    "I1 = int(input(\"enter lower range limit:\"))\n",
    "I2 = int(input(\"enter upper range limit:\"))\n",
    "n = int(input(\"enter the number to be divided by:\"))\n",
    "for i in  range(I1, I2 + 1):\n",
    "    if i % n == 0:\n",
    "        print(i)\n",
    "        "
   ]
  },
  {
   "cell_type": "code",
   "execution_count": null,
   "id": "0cc008fb",
   "metadata": {},
   "outputs": [],
   "source": []
  }
 ],
 "metadata": {
  "kernelspec": {
   "display_name": "Python 3",
   "language": "python",
   "name": "python3"
  },
  "language_info": {
   "codemirror_mode": {
    "name": "ipython",
    "version": 3
   },
   "file_extension": ".py",
   "mimetype": "text/x-python",
   "name": "python",
   "nbconvert_exporter": "python",
   "pygments_lexer": "ipython3",
   "version": "3.8.8"
  }
 },
 "nbformat": 4,
 "nbformat_minor": 5
}
