{
 "cells": [
  {
   "cell_type": "code",
   "execution_count": 1,
   "id": "dca84a5e",
   "metadata": {},
   "outputs": [
    {
     "name": "stdout",
     "output_type": "stream",
     "text": [
      "enter mark in maths75\n",
      "enter mark in physics67\n",
      "enter mark in english89\n",
      "enter mark in chemistry98\n",
      "enter mark in cs65\n",
      "average: 78.8\n",
      "grade: B\n"
     ]
    }
   ],
   "source": [
    "# program  to take marks of 5 subjects and display the grade\n",
    "\n",
    "sub1 = int(input(\"enter mark in maths\"))\n",
    "sub2 = int(input(\"enter mark in physics\"))\n",
    "sub3 = int(input(\"enter mark in english\"))\n",
    "sub4 = int(input(\"enter mark in chemistry\"))\n",
    "sub5 = int(input(\"enter mark in cs\"))\n",
    "avg = (sub1+sub2+sub3+sub4+sub5)/5\n",
    "print(\"average:\", avg)\n",
    "if avg > 90:\n",
    "    print(\"grade: A+\")\n",
    "elif avg > 80:\n",
    "    print(\"grade: A\")\n",
    "elif avg > 70:\n",
    "    print(\"grade: B\")    \n",
    "elif avg > 60:\n",
    "    print(\"grade: C\") \n",
    "elif avg > 50:\n",
    "    print(\"grade: D\") \n",
    "elif avg > 40:\n",
    "    print(\"grade: E\")\n",
    "elif avg < 40:\n",
    "    print(\"failed\")"
   ]
  },
  {
   "cell_type": "code",
   "execution_count": null,
   "id": "98be8af0",
   "metadata": {},
   "outputs": [],
   "source": []
  }
 ],
 "metadata": {
  "kernelspec": {
   "display_name": "Python 3",
   "language": "python",
   "name": "python3"
  },
  "language_info": {
   "codemirror_mode": {
    "name": "ipython",
    "version": 3
   },
   "file_extension": ".py",
   "mimetype": "text/x-python",
   "name": "python",
   "nbconvert_exporter": "python",
   "pygments_lexer": "ipython3",
   "version": "3.8.8"
  }
 },
 "nbformat": 4,
 "nbformat_minor": 5
}
