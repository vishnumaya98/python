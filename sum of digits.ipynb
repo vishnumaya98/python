{
 "cells": [
  {
   "cell_type": "code",
   "execution_count": 1,
   "id": "3546549b",
   "metadata": {},
   "outputs": [
    {
     "name": "stdout",
     "output_type": "stream",
     "text": [
      "enter a number345\n",
      "sum : 12\n"
     ]
    }
   ],
   "source": [
    "# find sum of digits n a number\n",
    "n = int(input(\"enter a number\"))\n",
    "s = 0\n",
    "while n != 0:\n",
    "    s = s + n % 10\n",
    "    n = n // 10\n",
    "print(\"sum :\", s)\n"
   ]
  },
  {
   "cell_type": "code",
   "execution_count": null,
   "id": "570cae38",
   "metadata": {},
   "outputs": [],
   "source": []
  }
 ],
 "metadata": {
  "kernelspec": {
   "display_name": "Python 3",
   "language": "python",
   "name": "python3"
  },
  "language_info": {
   "codemirror_mode": {
    "name": "ipython",
    "version": 3
   },
   "file_extension": ".py",
   "mimetype": "text/x-python",
   "name": "python",
   "nbconvert_exporter": "python",
   "pygments_lexer": "ipython3",
   "version": "3.8.8"
  }
 },
 "nbformat": 4,
 "nbformat_minor": 5
}
