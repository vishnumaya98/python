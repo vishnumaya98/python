{
 "cells": [
  {
   "cell_type": "code",
   "execution_count": 1,
   "id": "d8bcf1de",
   "metadata": {},
   "outputs": [
    {
     "name": "stdout",
     "output_type": "stream",
     "text": [
      "[12, 17, 4, 39, 10]\n",
      "[12, 17, 4, 39, 10, 40]\n",
      "[12, 17, 25, 4, 39, 10, 40]\n",
      "[12, 17, 25, 4, 28, 39, 10, 40]\n",
      "[12, 17, 25, 4, 28, 39, 10, 40, 6, 8]\n"
     ]
    }
   ],
   "source": [
    "list=[12,17,4,39,10]\n",
    "print(list)\n",
    "list.append(40)\n",
    "print(list)\n",
    "list.insert(2,25)\n",
    "print(list)\n",
    "list.insert(-3,28)\n",
    "print(list)\n",
    "list.extend([6,8])\n",
    "print(list)"
   ]
  },
  {
   "cell_type": "code",
   "execution_count": 2,
   "id": "e68bb9d4",
   "metadata": {},
   "outputs": [
    {
     "name": "stdout",
     "output_type": "stream",
     "text": [
      "[8, 4, 2, 7, 1]\n",
      "[8, 4, 2, 1]\n",
      "[8, 2, 1]\n",
      "[1, 2, 8]\n"
     ]
    }
   ],
   "source": [
    "list2=[8,4,2,7,1]\n",
    "print(list2)\n",
    "list2.pop(-2)\n",
    "print(list2)\n",
    "list2.remove(4)\n",
    "print(list2)\n",
    "list2.sort()\n",
    "print(list2)\n"
   ]
  },
  {
   "cell_type": "code",
   "execution_count": 3,
   "id": "aeac8e48",
   "metadata": {},
   "outputs": [
    {
     "name": "stdout",
     "output_type": "stream",
     "text": [
      "['kunju', 'anju', 'ammu', 'moluty']\n",
      "['kunju', 'anju', 'moluty']\n",
      "['kunju', 'anju', 'moluty', 'vichu']\n",
      "['anju', 'kunju', 'moluty', 'vichu']\n",
      "['vichu', 'moluty', 'kunju', 'anju']\n"
     ]
    }
   ],
   "source": [
    "name=['kunju' ,'anju','ammu','moluty']\n",
    "print(name)\n",
    "name.remove('ammu')\n",
    "print(name)\n",
    "name.append('vichu')\n",
    "print(name)\n",
    "name.sort()\n",
    "print(name)\n",
    "name.sort(reverse=True)\n",
    "print(name)"
   ]
  },
  {
   "cell_type": "code",
   "execution_count": 7,
   "id": "c1f49829",
   "metadata": {},
   "outputs": [
    {
     "name": "stdout",
     "output_type": "stream",
     "text": [
      "['vichu', 'moluty', 'kunju', 'anju']\n"
     ]
    },
    {
     "data": {
      "text/plain": [
       "['moluty', 'kunju', 'anju']"
      ]
     },
     "execution_count": 7,
     "metadata": {},
     "output_type": "execute_result"
    }
   ],
   "source": [
    "print(name)\n",
    "name [1:4]\n",
    "\n",
    "\n"
   ]
  },
  {
   "cell_type": "code",
   "execution_count": 8,
   "id": "d4f8a6e0",
   "metadata": {},
   "outputs": [
    {
     "name": "stdout",
     "output_type": "stream",
     "text": [
      "['vichu', 'moluty', 'kunju', 'anju']\n"
     ]
    },
    {
     "data": {
      "text/plain": [
       "['vichu', 'moluty']"
      ]
     },
     "execution_count": 8,
     "metadata": {},
     "output_type": "execute_result"
    }
   ],
   "source": [
    "print(name)\n",
    "name[:2]"
   ]
  },
  {
   "cell_type": "code",
   "execution_count": 9,
   "id": "4c39e45a",
   "metadata": {},
   "outputs": [
    {
     "name": "stdout",
     "output_type": "stream",
     "text": [
      "['vichu', 'moluty', 'kunju', 'anju']\n"
     ]
    },
    {
     "data": {
      "text/plain": [
       "['moluty', 'kunju', 'anju']"
      ]
     },
     "execution_count": 9,
     "metadata": {},
     "output_type": "execute_result"
    }
   ],
   "source": [
    "print(name)\n",
    "name[1:]"
   ]
  },
  {
   "cell_type": "code",
   "execution_count": null,
   "id": "cf126f31",
   "metadata": {},
   "outputs": [],
   "source": []
  }
 ],
 "metadata": {
  "kernelspec": {
   "display_name": "Python 3",
   "language": "python",
   "name": "python3"
  },
  "language_info": {
   "codemirror_mode": {
    "name": "ipython",
    "version": 3
   },
   "file_extension": ".py",
   "mimetype": "text/x-python",
   "name": "python",
   "nbconvert_exporter": "python",
   "pygments_lexer": "ipython3",
   "version": "3.8.8"
  }
 },
 "nbformat": 4,
 "nbformat_minor": 5
}
