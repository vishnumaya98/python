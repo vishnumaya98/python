{
 "cells": [
  {
   "cell_type": "code",
   "execution_count": 1,
   "id": "27f8b00a",
   "metadata": {},
   "outputs": [
    {
     "name": "stdout",
     "output_type": "stream",
     "text": [
      "Enter First Number: 12\n",
      "Enter Second Number: 4\n",
      "Enter which operation would you like to perform?\n",
      "Enter any of these char for specific operation +,-,*,/: *\n",
      "12 * 4 : 48\n"
     ]
    }
   ],
   "source": [
    "# write a program to accept 2 numbers and do the arithmetic operations according to users wish.\n",
    "num1 = int(input(\"Enter First Number: \"))\n",
    "num2 = int(input(\"Enter Second Number: \"))\n",
    "\n",
    "print(\"Enter which operation would you like to perform?\")\n",
    "ch = input(\"Enter any of these char for specific operation +,-,*,/: \")\n",
    "\n",
    "result = 0\n",
    "if ch == '+':\n",
    "    result = num1 + num2\n",
    "elif ch == '-':\n",
    "    result = num1 - num2\n",
    "elif ch == '*':\n",
    "    result = num1 * num2\n",
    "elif ch == '/':\n",
    "    result = num1 / num2\n",
    "else:\n",
    "    print(\"Input character is not recognized!\")\n",
    "\n",
    "print(num1, ch , num2, \":\", result)"
   ]
  },
  {
   "cell_type": "code",
   "execution_count": 2,
   "id": "7d4c48d2",
   "metadata": {},
   "outputs": [
    {
     "name": "stdout",
     "output_type": "stream",
     "text": [
      "number of even numbers : 10\n",
      "number of odd numbers : 10\n"
     ]
    }
   ],
   "source": [
    "# write a program to display the count of even no's and odd no's between 1 and 20\n",
    "count_odd = 0\n",
    "count_even = 0\n",
    "for x in range(1,21):\n",
    "    if not x % 2:\n",
    "        count_even+=1\n",
    "    else:\n",
    "        count_odd+=1\n",
    "print(\"number of even numbers :\",count_even)\n",
    "print(\"number of odd numbers :\",count_odd)\n"
   ]
  },
  {
   "cell_type": "code",
   "execution_count": 3,
   "id": "d92ef270",
   "metadata": {},
   "outputs": [
    {
     "name": "stdout",
     "output_type": "stream",
     "text": [
      "elements of original array: \n",
      "11 6 3 9 8 64 45 87 43 1 \n",
      "elements of array sorted is ascending order: \n",
      "1 3 6 8 9 11 43 45 64 87 "
     ]
    }
   ],
   "source": [
    "# program to sort an integer array with size 10\n",
    "arr = [11,6,3,9,8,64,45,87,43,1]\n",
    "temp = 0\n",
    "print(\"elements of original array: \")\n",
    "for i in range(0, len(arr)):\n",
    "    print(arr[i],end=\" \")\n",
    "for i in range(0, len(arr)):\n",
    "    for j in range(i+1, len(arr)):\n",
    "        if(arr[i]>arr[j]):\n",
    "            temp = arr[i]\n",
    "            arr[i] = arr[j]\n",
    "            arr[j] = temp\n",
    "print()\n",
    "print(\"elements of array sorted is ascending order: \")\n",
    "for i in range(0, len(arr)):\n",
    "    print(arr[i],end=\" \" )"
   ]
  },
  {
   "cell_type": "code",
   "execution_count": 5,
   "id": "084b4849",
   "metadata": {},
   "outputs": [
    {
     "name": "stdout",
     "output_type": "stream",
     "text": [
      "enter a number108\n",
      "108 is greater than 100 and it is an even number\n"
     ]
    }
   ],
   "source": [
    "# program to display a number if it is greater than 100 and it is an even number\n",
    "n = int(input(\"enter a number\"))\n",
    "if n>100 and n%2==0:\n",
    "    print(n,\"is greater than 100 and it is an even number\")\n",
    "else:\n",
    "    print(\"invalid\")\n",
    "    "
   ]
  },
  {
   "cell_type": "code",
   "execution_count": 6,
   "id": "cb843ddc",
   "metadata": {},
   "outputs": [
    {
     "name": "stdout",
     "output_type": "stream",
     "text": [
      "enter your name: maya\n",
      "enter your age: 23\n",
      "name: maya\n",
      "age: 23\n"
     ]
    }
   ],
   "source": [
    "# program to create a function can accept two arguments name and age and print its value\n",
    "def personal(name,age):\n",
    "    print(\"name:\", name)\n",
    "    print(\"age:\", age)\n",
    "name = input(\"enter your name: \")\n",
    "age = int(input(\"enter your age: \"))\n",
    "personal(name,age)"
   ]
  },
  {
   "cell_type": "code",
   "execution_count": 7,
   "id": "1b0b5315",
   "metadata": {},
   "outputs": [
    {
     "name": "stdout",
     "output_type": "stream",
     "text": [
      "[4, 6, 8, 10, 12, 14, 16, 18, 20, 22, 24, 26, 28]\n"
     ]
    }
   ],
   "source": [
    "# program generate a python list of all the even numbers between 4 to 30\n",
    "a = []\n",
    "for x in range(4,30):\n",
    "    if x%2== 0:\n",
    "        a.append(x)\n",
    "print(a)        \n"
   ]
  },
  {
   "cell_type": "code",
   "execution_count": 1,
   "id": "7537291f",
   "metadata": {},
   "outputs": [
    {
     "name": "stdout",
     "output_type": "stream",
     "text": [
      "modified set:  {1, 2, 3, 4, 5, 6, 7, 8, 9}\n"
     ]
    }
   ],
   "source": [
    "# program to add a list of elements to a given set\n",
    "set = {1,2,3,4,5}\n",
    "add_set1 = [6, 3, 7, 8, 1, 9]\n",
    "set.update(add_set1)\n",
    "print(\"modified set: \",set)\n"
   ]
  },
  {
   "cell_type": "code",
   "execution_count": 2,
   "id": "2327fc21",
   "metadata": {},
   "outputs": [
    {
     "name": "stdout",
     "output_type": "stream",
     "text": [
      "true\n"
     ]
    }
   ],
   "source": [
    "# program given list of numbers,returns true if first and last numbers of a list is same\n",
    "l = [15, 4, 6, 8, 9, 15]\n",
    "if l[0] == l[-1]:\n",
    "    print(\"true\")\n",
    "else:\n",
    "    print(\"not same\")\n"
   ]
  },
  {
   "cell_type": "code",
   "execution_count": 3,
   "id": "0aba7aeb",
   "metadata": {},
   "outputs": [
    {
     "name": "stdout",
     "output_type": "stream",
     "text": [
      "5 is divisible of 5\n",
      "10 is divisible of 5\n",
      "15 is divisible of 5\n"
     ]
    }
   ],
   "source": [
    "# program given a list of numbers ,iterate it and print only those numbers which are divisible of 5\n",
    "l =[1, 2, 3, 4, 5, 6, 7, 8, 9, 10, 12, 13, 14, 15]\n",
    "for i in l:\n",
    "    if i%5==0:\n",
    "        print(i, \"is divisible of 5\")\n",
    "        "
   ]
  },
  {
   "cell_type": "code",
   "execution_count": null,
   "id": "eed32699",
   "metadata": {},
   "outputs": [],
   "source": []
  }
 ],
 "metadata": {
  "kernelspec": {
   "display_name": "Python 3",
   "language": "python",
   "name": "python3"
  },
  "language_info": {
   "codemirror_mode": {
    "name": "ipython",
    "version": 3
   },
   "file_extension": ".py",
   "mimetype": "text/x-python",
   "name": "python",
   "nbconvert_exporter": "python",
   "pygments_lexer": "ipython3",
   "version": "3.8.8"
  }
 },
 "nbformat": 4,
 "nbformat_minor": 5
}
