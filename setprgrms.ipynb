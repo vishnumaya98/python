{
 "cells": [
  {
   "cell_type": "code",
   "execution_count": 1,
   "id": "9d599d23",
   "metadata": {},
   "outputs": [
    {
     "name": "stdout",
     "output_type": "stream",
     "text": [
      "2\n"
     ]
    }
   ],
   "source": [
    "nums =[5,4,3,2,1]\n",
    "print(nums[-2])"
   ]
  },
  {
   "cell_type": "code",
   "execution_count": 2,
   "id": "cbbbad34",
   "metadata": {},
   "outputs": [
    {
     "name": "stdout",
     "output_type": "stream",
     "text": [
      "[11.25, 18.0, 20.0, 10.75, 9.5]\n"
     ]
    }
   ],
   "source": [
    "hall=11.25\n",
    "kit=18.0\n",
    "liv=20.0\n",
    "bed=10.75\n",
    "bath=9.50\n",
    "Areas=[hall,kit,liv,bed,bath]\n",
    "print(Areas)"
   ]
  },
  {
   "cell_type": "code",
   "execution_count": 3,
   "id": "b8bf32c4",
   "metadata": {},
   "outputs": [
    {
     "data": {
      "text/plain": [
       "[12, 21, 23, 18]"
      ]
     },
     "execution_count": 3,
     "metadata": {},
     "output_type": "execute_result"
    }
   ],
   "source": [
    "nameList=['sikender','prassana','shivlumar','akash']\n",
    "markList=[12,21,23,18]\n",
    "markList"
   ]
  },
  {
   "cell_type": "code",
   "execution_count": 4,
   "id": "f50cc8fd",
   "metadata": {},
   "outputs": [
    {
     "data": {
      "text/plain": [
       "['sikender', 'prassana', 'shivlumar', 'akash']"
      ]
     },
     "execution_count": 4,
     "metadata": {},
     "output_type": "execute_result"
    }
   ],
   "source": [
    "nameList"
   ]
  },
  {
   "cell_type": "code",
   "execution_count": 5,
   "id": "c187c83f",
   "metadata": {},
   "outputs": [
    {
     "name": "stdout",
     "output_type": "stream",
     "text": [
      "12\n"
     ]
    }
   ],
   "source": [
    "print(markList[0])"
   ]
  },
  {
   "cell_type": "code",
   "execution_count": 6,
   "id": "e014370b",
   "metadata": {},
   "outputs": [
    {
     "name": "stdout",
     "output_type": "stream",
     "text": [
      "18\n"
     ]
    }
   ],
   "source": [
    "print(markList[-1])"
   ]
  },
  {
   "cell_type": "code",
   "execution_count": 9,
   "id": "18466995",
   "metadata": {},
   "outputs": [
    {
     "name": "stdout",
     "output_type": "stream",
     "text": [
      "12\n",
      "21\n",
      "23\n",
      "18\n"
     ]
    }
   ],
   "source": [
    "for ele in markList:\n",
    "    print(ele)"
   ]
  },
  {
   "cell_type": "code",
   "execution_count": 10,
   "id": "2a672037",
   "metadata": {},
   "outputs": [
    {
     "data": {
      "text/plain": [
       "4"
      ]
     },
     "execution_count": 10,
     "metadata": {},
     "output_type": "execute_result"
    }
   ],
   "source": [
    "len(markList)"
   ]
  },
  {
   "cell_type": "code",
   "execution_count": 12,
   "id": "2969790f",
   "metadata": {},
   "outputs": [
    {
     "data": {
      "text/plain": [
       "23"
      ]
     },
     "execution_count": 12,
     "metadata": {},
     "output_type": "execute_result"
    }
   ],
   "source": [
    "max(markList)"
   ]
  },
  {
   "cell_type": "code",
   "execution_count": 13,
   "id": "2b452cb6",
   "metadata": {},
   "outputs": [
    {
     "data": {
      "text/plain": [
       "12"
      ]
     },
     "execution_count": 13,
     "metadata": {},
     "output_type": "execute_result"
    }
   ],
   "source": [
    "min(markList)"
   ]
  },
  {
   "cell_type": "code",
   "execution_count": 14,
   "id": "2edb6470",
   "metadata": {},
   "outputs": [
    {
     "data": {
      "text/plain": [
       "74"
      ]
     },
     "execution_count": 14,
     "metadata": {},
     "output_type": "execute_result"
    }
   ],
   "source": [
    "sum(markList)"
   ]
  },
  {
   "cell_type": "code",
   "execution_count": 15,
   "id": "7f02db8e",
   "metadata": {},
   "outputs": [
    {
     "data": {
      "text/plain": [
       "4"
      ]
     },
     "execution_count": 15,
     "metadata": {},
     "output_type": "execute_result"
    }
   ],
   "source": [
    "len(nameList)"
   ]
  },
  {
   "cell_type": "code",
   "execution_count": 16,
   "id": "232438d2",
   "metadata": {},
   "outputs": [
    {
     "data": {
      "text/plain": [
       "'sikender'"
      ]
     },
     "execution_count": 16,
     "metadata": {},
     "output_type": "execute_result"
    }
   ],
   "source": [
    "max(nameList)"
   ]
  },
  {
   "cell_type": "code",
   "execution_count": 17,
   "id": "61359719",
   "metadata": {},
   "outputs": [
    {
     "data": {
      "text/plain": [
       "'akash'"
      ]
     },
     "execution_count": 17,
     "metadata": {},
     "output_type": "execute_result"
    }
   ],
   "source": [
    "min(nameList)"
   ]
  },
  {
   "cell_type": "code",
   "execution_count": null,
   "id": "4e14d6e1",
   "metadata": {},
   "outputs": [],
   "source": [
    "mixedTypeList=['sikender',39,]"
   ]
  }
 ],
 "metadata": {
  "kernelspec": {
   "display_name": "Python 3",
   "language": "python",
   "name": "python3"
  },
  "language_info": {
   "codemirror_mode": {
    "name": "ipython",
    "version": 3
   },
   "file_extension": ".py",
   "mimetype": "text/x-python",
   "name": "python",
   "nbconvert_exporter": "python",
   "pygments_lexer": "ipython3",
   "version": "3.8.8"
  }
 },
 "nbformat": 4,
 "nbformat_minor": 5
}
