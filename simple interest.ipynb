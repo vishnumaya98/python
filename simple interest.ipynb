{
 "cells": [
  {
   "cell_type": "code",
   "execution_count": 2,
   "id": "ae0272a2",
   "metadata": {},
   "outputs": [
    {
     "name": "stdout",
     "output_type": "stream",
     "text": [
      "enter principle amount:200\n",
      "enter time(years): 5\n",
      "enter the rate:5.0\n",
      "simple Interest is:  50.0\n"
     ]
    }
   ],
   "source": [
    "# program to compute  simple interest given all the required values\n",
    "\n",
    "principle = int(input(\"enter principle amount:\"))\n",
    "time = int(input(\"enter time(years): \"))\n",
    "rate = float(input(\"enter the rate:\"))\n",
    "simple_interest = (principle*time*rate)/100\n",
    "print(\"simple Interest is: \", simple_interest)"
   ]
  },
  {
   "cell_type": "code",
   "execution_count": null,
   "id": "51cd800d",
   "metadata": {},
   "outputs": [],
   "source": []
  }
 ],
 "metadata": {
  "kernelspec": {
   "display_name": "Python 3",
   "language": "python",
   "name": "python3"
  },
  "language_info": {
   "codemirror_mode": {
    "name": "ipython",
    "version": 3
   },
   "file_extension": ".py",
   "mimetype": "text/x-python",
   "name": "python",
   "nbconvert_exporter": "python",
   "pygments_lexer": "ipython3",
   "version": "3.8.8"
  }
 },
 "nbformat": 4,
 "nbformat_minor": 5
}
