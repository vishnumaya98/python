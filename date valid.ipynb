{
 "cells": [
  {
   "cell_type": "code",
   "execution_count": 2,
   "id": "33f269fd",
   "metadata": {},
   "outputs": [
    {
     "name": "stdout",
     "output_type": "stream",
     "text": [
      "enter the date24/5/2021\n",
      "the incremented date is:  25 5 2021\n"
     ]
    }
   ],
   "source": [
    "# program to check if a date is valid and print the incremented date if it is valid \n",
    "\n",
    "date = input(\"enter the date\")\n",
    "dd,mm,yy = date.split('/')\n",
    "dd = int(dd)\n",
    "mm = int(mm)\n",
    "yy = int(yy)\n",
    "if(mm==1 or mm==3 or mm==7 or mm==8 or mm==10 or mm==12):\n",
    "    days = 31\n",
    "elif(mm==4 or mm==6 or mm==9 or mm==11):\n",
    "    days = 30\n",
    "elif(yy%4==0 and yy%100!=0 or yy%400==0):\n",
    "    days = 29\n",
    "else:\n",
    "    days = 28\n",
    "if(mm<1 or mm>12):\n",
    "    print(\"Date is invalid.\")\n",
    "elif(dd<1 or dd>days):\n",
    "    print(\"Date is invalid.\")\n",
    "elif(dd==days and mm!=12):    \n",
    "    dd=1\n",
    "    mm=mm+1\n",
    "    print(\"the incremented date is: \",dd,mm,yy)\n",
    "elif(dd==31 and mm==12):\n",
    "    dd=1\n",
    "    mm=1\n",
    "    yy=yy+1\n",
    "    print(\"the incremented date is: \",dd,mm,yy)\n",
    "else:\n",
    "    dd=dd+1\n",
    "    print(\"the incremented date is: \",dd,mm,yy)\n",
    "    "
   ]
  },
  {
   "cell_type": "code",
   "execution_count": null,
   "id": "13a26f4c",
   "metadata": {},
   "outputs": [],
   "source": []
  }
 ],
 "metadata": {
  "kernelspec": {
   "display_name": "Python 3",
   "language": "python",
   "name": "python3"
  },
  "language_info": {
   "codemirror_mode": {
    "name": "ipython",
    "version": 3
   },
   "file_extension": ".py",
   "mimetype": "text/x-python",
   "name": "python",
   "nbconvert_exporter": "python",
   "pygments_lexer": "ipython3",
   "version": "3.8.8"
  }
 },
 "nbformat": 4,
 "nbformat_minor": 5
}
