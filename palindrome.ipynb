{
 "cells": [
  {
   "cell_type": "code",
   "execution_count": 1,
   "id": "cd4c6f27",
   "metadata": {},
   "outputs": [
    {
     "name": "stdout",
     "output_type": "stream",
     "text": [
      "enter a number121\n",
      "121 is a palindrome\n"
     ]
    }
   ],
   "source": [
    "# to check if a number is a palindrome\n",
    "num =int(input(\"enter a number\"))\n",
    "t = num\n",
    "rev = 0\n",
    "while num > 0:\n",
    "    i = num % 10\n",
    "    rev = rev * 10 + i\n",
    "    num = num // 10\n",
    "if rev == t:\n",
    "    print(t,\"is a palindrome\")\n",
    "else:\n",
    "    print(t,\"is not a palindrome\")"
   ]
  },
  {
   "cell_type": "code",
   "execution_count": null,
   "id": "ea7d8ad2",
   "metadata": {},
   "outputs": [],
   "source": []
  }
 ],
 "metadata": {
  "kernelspec": {
   "display_name": "Python 3",
   "language": "python",
   "name": "python3"
  },
  "language_info": {
   "codemirror_mode": {
    "name": "ipython",
    "version": 3
   },
   "file_extension": ".py",
   "mimetype": "text/x-python",
   "name": "python",
   "nbconvert_exporter": "python",
   "pygments_lexer": "ipython3",
   "version": "3.8.8"
  }
 },
 "nbformat": 4,
 "nbformat_minor": 5
}
