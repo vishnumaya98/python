{
 "cells": [
  {
   "cell_type": "code",
   "execution_count": 1,
   "id": "df6b9f01",
   "metadata": {},
   "outputs": [
    {
     "name": "stdout",
     "output_type": "stream",
     "text": [
      "(2, 4, 9, 6)\n",
      "(6, 'maya', (1, 2, 3))\n",
      "hello\n",
      "('hello',)\n",
      "<class 'str'>\n",
      "<class 'tuple'>\n"
     ]
    }
   ],
   "source": [
    "tuple=(2,4,9,6)\n",
    "print(tuple)\n",
    "tuple1=(6,'maya',(1,2,3))\n",
    "print(tuple1)\n",
    "tuple2=(\"hello\")\n",
    "print(tuple2)\n",
    "tuple3=(\"hello\",)\n",
    "print(tuple3)\n",
    "print(type(tuple2))\n",
    "print(type(tuple3))\n"
   ]
  },
  {
   "cell_type": "code",
   "execution_count": 2,
   "id": "965cb6b5",
   "metadata": {},
   "outputs": [
    {
     "name": "stdout",
     "output_type": "stream",
     "text": [
      "(6, 'maya', (1, 2, 3))\n",
      "6\n",
      "maya\n",
      "(1, 2, 3)\n",
      "y\n",
      "2\n"
     ]
    }
   ],
   "source": [
    "tuple=(6,'maya',(1,2,3))\n",
    "print(tuple)\n",
    "print(tuple[0])\n",
    "print(tuple[1])\n",
    "print(tuple[-1])\n",
    "print(tuple[1][2])\n",
    "print(tuple[2][1])\n"
   ]
  },
  {
   "cell_type": "code",
   "execution_count": 5,
   "id": "cfde1fd6",
   "metadata": {},
   "outputs": [
    {
     "name": "stdout",
     "output_type": "stream",
     "text": [
      "(6, 'maya', [1, 2, 3])\n",
      "(6, 'maya', [1, 8, 3])\n"
     ]
    }
   ],
   "source": [
    "tuple=(6,'maya',[1,2,3])\n",
    "print(tuple)\n",
    "tuple[2][1]=8\n",
    "print(tuple)"
   ]
  },
  {
   "cell_type": "code",
   "execution_count": 8,
   "id": "808a843c",
   "metadata": {},
   "outputs": [
    {
     "name": "stdout",
     "output_type": "stream",
     "text": [
      "ammu anju\n",
      "(1, 2, 1, 2, 1, 2)\n"
     ]
    }
   ],
   "source": [
    "print(\"ammu\"+\" anju\")\n",
    "print((1,2)*3)\n"
   ]
  },
  {
   "cell_type": "code",
   "execution_count": 9,
   "id": "73787900",
   "metadata": {},
   "outputs": [
    {
     "name": "stdout",
     "output_type": "stream",
     "text": [
      "2\n",
      "1\n",
      "True\n",
      "False\n"
     ]
    }
   ],
   "source": [
    "tuple=(1,3,7,1)\n",
    "print(tuple.count(1))\n",
    "print(tuple.index(3))\n",
    "print(1 in tuple)\n",
    "print(1 not in tuple)\n"
   ]
  },
  {
   "cell_type": "code",
   "execution_count": 10,
   "id": "2ef215ce",
   "metadata": {},
   "outputs": [
    {
     "name": "stdout",
     "output_type": "stream",
     "text": [
      "hey suku\n",
      "hey shibi\n",
      "hey jen\n"
     ]
    }
   ],
   "source": [
    "names=('suku','shibi','jen')\n",
    "for name in names:\n",
    "    print('hey',name)\n",
    "    "
   ]
  },
  {
   "cell_type": "code",
   "execution_count": null,
   "id": "128196dc",
   "metadata": {},
   "outputs": [],
   "source": []
  }
 ],
 "metadata": {
  "kernelspec": {
   "display_name": "Python 3",
   "language": "python",
   "name": "python3"
  },
  "language_info": {
   "codemirror_mode": {
    "name": "ipython",
    "version": 3
   },
   "file_extension": ".py",
   "mimetype": "text/x-python",
   "name": "python",
   "nbconvert_exporter": "python",
   "pygments_lexer": "ipython3",
   "version": "3.8.8"
  }
 },
 "nbformat": 4,
 "nbformat_minor": 5
}
