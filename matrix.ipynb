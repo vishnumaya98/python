{
 "cells": [
  {
   "cell_type": "code",
   "execution_count": 1,
   "id": "a864f01c",
   "metadata": {},
   "outputs": [
    {
     "name": "stdout",
     "output_type": "stream",
     "text": [
      "enter a number:4\n",
      "1 0 0 0 \n",
      "0 1 0 0 \n",
      "0 0 1 0 \n",
      "0 0 0 1 \n"
     ]
    }
   ],
   "source": [
    "# print an identity matrix\n",
    "n = int(input(\"enter a number:\"))\n",
    "for i in range(0, n):\n",
    "    for j in range(0, n):\n",
    "        if i == j:\n",
    "            print(\"1\", sep=\" \", end=\" \")\n",
    "        else:\n",
    "            print(\"0\", sep=\" \", end=\" \")\n",
    "    print()\n",
    "    \n",
    "\n"
   ]
  },
  {
   "cell_type": "code",
   "execution_count": null,
   "id": "b032e26c",
   "metadata": {},
   "outputs": [],
   "source": []
  }
 ],
 "metadata": {
  "kernelspec": {
   "display_name": "Python 3",
   "language": "python",
   "name": "python3"
  },
  "language_info": {
   "codemirror_mode": {
    "name": "ipython",
    "version": 3
   },
   "file_extension": ".py",
   "mimetype": "text/x-python",
   "name": "python",
   "nbconvert_exporter": "python",
   "pygments_lexer": "ipython3",
   "version": "3.8.8"
  }
 },
 "nbformat": 4,
 "nbformat_minor": 5
}
